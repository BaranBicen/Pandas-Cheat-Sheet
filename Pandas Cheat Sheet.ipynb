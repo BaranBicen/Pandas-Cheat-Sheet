{
 "cells": [
  {
   "cell_type": "markdown",
   "id": "dbe8d952",
   "metadata": {},
   "source": [
    "## Soruces\n",
    "https://pandas.pydata.org/docs/user_guide/reshaping.html#pivot-table\n",
    "\n",
    "https://www.askpython.com/python/examples/subset-a-dataframe\n",
    "\n",
    "https://www.askpython.com/python/examples/normalize-data-in-python\n",
    "\n",
    "https://pandas.pydata.org/docs/search.html?q=loc"
   ]
  },
  {
   "cell_type": "code",
   "execution_count": 1,
   "id": "1f131b8c",
   "metadata": {},
   "outputs": [],
   "source": [
    "import pandas as pd\n",
    "import matplotlib.pyplot as plt"
   ]
  },
  {
   "cell_type": "markdown",
   "id": "a7f5e1c2",
   "metadata": {},
   "source": [
    "## Reading Files"
   ]
  },
  {
   "cell_type": "code",
   "execution_count": 2,
   "id": "17fd5849",
   "metadata": {},
   "outputs": [],
   "source": [
    "# reading csv files\n",
    "df = pd.read_csv(\"netflix_data.csv\")\n",
    "\n",
    "# reading excel files\n",
    "#df = pd.read_excel(\"netflix_data.xsls\")\n",
    "\n",
    "# reading txt files\n",
    "#df = pd.read_csv(\"netflix_data.txt\",delimiter = \",\")\n",
    "# delimiter is the thing that seperates the columns which in this example is comma"
   ]
  },
  {
   "cell_type": "markdown",
   "id": "5f634cae",
   "metadata": {},
   "source": [
    "## Information About Data"
   ]
  },
  {
   "cell_type": "code",
   "execution_count": 7,
   "id": "44387818",
   "metadata": {
    "scrolled": true
   },
   "outputs": [
    {
     "name": "stdout",
     "output_type": "stream",
     "text": [
      "<class 'pandas.core.frame.DataFrame'>\n",
      "RangeIndex: 7787 entries, 0 to 7786\n",
      "Data columns (total 11 columns):\n",
      " #   Column        Non-Null Count  Dtype \n",
      "---  ------        --------------  ----- \n",
      " 0   show_id       7787 non-null   object\n",
      " 1   type          7787 non-null   object\n",
      " 2   title         7787 non-null   object\n",
      " 3   director      5398 non-null   object\n",
      " 4   cast          7069 non-null   object\n",
      " 5   country       7280 non-null   object\n",
      " 6   date_added    7777 non-null   object\n",
      " 7   release_year  7787 non-null   int64 \n",
      " 8   duration      7787 non-null   int64 \n",
      " 9   description   7787 non-null   object\n",
      " 10  genre         7787 non-null   object\n",
      "dtypes: int64(2), object(9)\n",
      "memory usage: 669.3+ KB\n"
     ]
    },
    {
     "data": {
      "text/plain": [
       "RangeIndex(start=0, stop=7787, step=1)"
      ]
     },
     "execution_count": 7,
     "metadata": {},
     "output_type": "execute_result"
    }
   ],
   "source": [
    "# getting the first five rows\n",
    "df.head(5)\n",
    "\n",
    "# getting the last five rows\n",
    "df.tail(5)\n",
    "\n",
    "# Information about the data\n",
    "df.info()\n",
    "\n",
    "# Shape of data\n",
    "df.shape\n",
    "\n",
    "# Description and some ever so usefull statistics about data\n",
    "df.describe()\n",
    "\n",
    "# the values of each row\n",
    "df.values\n",
    "\n",
    "# data's column names\n",
    "df.columns\n",
    "\n",
    "# informatin about index\n",
    "df.index"
   ]
  },
  {
   "cell_type": "markdown",
   "id": "58898dc1",
   "metadata": {},
   "source": [
    "## counts"
   ]
  },
  {
   "cell_type": "code",
   "execution_count": null,
   "id": "46aefda8",
   "metadata": {},
   "outputs": [],
   "source": [
    "# Counting diferent values of genres column\n",
    "df[\"genre\"].value_counts(sort = True)\n",
    "\n",
    "# Counting diferent values of genres column and normalizing them between 0 and 1\n",
    "df[\"genre\"].value_counts(normalize = True)"
   ]
  },
  {
   "cell_type": "markdown",
   "id": "dbb396bd",
   "metadata": {},
   "source": [
    "## Subsetting The Dataframe"
   ]
  },
  {
   "cell_type": "markdown",
   "id": "80a26389",
   "metadata": {},
   "source": [
    "## Subsetting columns"
   ]
  },
  {
   "cell_type": "code",
   "execution_count": null,
   "id": "a3cadb43",
   "metadata": {},
   "outputs": [],
   "source": [
    "# subsetting only one column\n",
    "df[\"title\"]\n",
    "\n",
    "# subsetting multiple columns\n",
    "df[[\"title\",\"genre\"]]\n",
    "\n",
    "# subsetting multiple columns in another way\n",
    "columns_to_subset = [\"title\",\"genre\"]\n",
    "df[columns_to_subset]\n",
    "\n",
    "# subsetting with loc\n",
    "df_subset = df.loc[:,[\"title\",\"duration\"]]\n",
    "\n",
    "# subsetting with iloc\n",
    "df_isubset = df.iloc[:,[1:3]]"
   ]
  },
  {
   "cell_type": "markdown",
   "id": "631f03a5",
   "metadata": {},
   "source": [
    "## Subsetting rows"
   ]
  },
  {
   "cell_type": "code",
   "execution_count": null,
   "id": "107b6a5a",
   "metadata": {
    "scrolled": false
   },
   "outputs": [],
   "source": [
    "# This will return a table of true and false if the genre is Dramas it wil be true and so on but to subset we do it like\n",
    "df[\"genre\"] == \"Dramas\"\n",
    "\n",
    "# We can use all sorts of logical equations in it\n",
    "df[df[\"genre\"] == \"Dramas\"]\n",
    "\n",
    "# In this we subset movies directed by \"Mozez Singh\"\n",
    "df_subset = df[df[\"director\"] == \"Mozez Singh\"]\n",
    "\n",
    "# We can subset data with logical gates\n",
    "df[(df[\"genre\"] == \"Dramas\") & (df[\"duration\"] > 60)]\n",
    "\n",
    "# Subsetting with loc method\n",
    "df_subset = df.loc[1]\n",
    "\n",
    "# Subsetting multiple rows\n",
    "df_subset = df.loc[[1,5,7]]\n",
    "\n",
    "#subsetting with iloc\n",
    "df_isubset = df.iloc[1]\n",
    "\n",
    "#subsetting multiple rows with iloc\n",
    "df_isubset = df.iloc[[1,5,7]]"
   ]
  },
  {
   "cell_type": "markdown",
   "id": "21be17b2",
   "metadata": {},
   "source": [
    "## New column"
   ]
  },
  {
   "cell_type": "code",
   "execution_count": null,
   "id": "a7acfbd6",
   "metadata": {},
   "outputs": [],
   "source": [
    "df_col = df\n",
    "df_col['IndexMatch'] = df_col.reset_index().index\n",
    "df_col.set_index([\"IndexMatch\",\"show_id\"])"
   ]
  },
  {
   "cell_type": "markdown",
   "id": "8e2c3e21",
   "metadata": {},
   "source": [
    "## Slicing dataframe"
   ]
  },
  {
   "cell_type": "code",
   "execution_count": null,
   "id": "cd0dfe30",
   "metadata": {},
   "outputs": [],
   "source": [
    "# If you set a new index it is recomended that you sort it first then slice the dataframe\n",
    "# We slice a dataframe with the help of loc and iloc methods\n",
    "# It is very similar to slicing lists\n",
    "\n",
    "df_col.sort_index()\n",
    "\n",
    "# Slicing the dataframe in outer index with loc\n",
    "df_col.loc[1:5]\n",
    "\n",
    "# Slicing the dataframe in inner index badly with loc\n",
    "df_col.loc[\"s1\" : \"s4\"]\n",
    "\n",
    "# Slicing the dataframe in inner index better with loc\n",
    "#df_col.loc[(0,\"s1\"):(4,\"s5\")]\n",
    "\n",
    "# Slicing the dataframe by its rows\n",
    "df_col.loc[:,\"country\":\"genre\"]\n",
    "\n",
    "#slicing with iloc\n",
    "df_col.iloc[:,1:5]"
   ]
  },
  {
   "cell_type": "markdown",
   "id": "4df86b41",
   "metadata": {},
   "source": [
    "## Cleaning Data"
   ]
  },
  {
   "cell_type": "code",
   "execution_count": null,
   "id": "ee2bfe47",
   "metadata": {},
   "outputs": [],
   "source": [
    "# Dropping duplicates\n",
    "df_dropdublicates = df.drop_duplicates()\n",
    "\n",
    "# dropping duplicates in pairs\n",
    "df_dropdublicates = df.drop_duplicates(subset = [\"title\",\"release_year\"])"
   ]
  },
  {
   "cell_type": "markdown",
   "id": "8626319e",
   "metadata": {},
   "source": [
    "## Sorting data"
   ]
  },
  {
   "cell_type": "code",
   "execution_count": null,
   "id": "0ec7c95d",
   "metadata": {
    "scrolled": false
   },
   "outputs": [],
   "source": [
    "# sorting the dataframe in ascending order for title column\n",
    "df.sort_values(\"title\")\n",
    "\n",
    "# sorting the dataframe in descending order for title column\n",
    "df.sort_values(\"title\", ascending = False)\n",
    "\n",
    "# sorting the dataframe with two columns\n",
    "df.sort_values([\"title\",\"director\"])\n",
    "\n",
    "# sorting the dataframe by two columns with one ascending and other one descending\n",
    "df.sort_values([\"title\",\"director\"], ascending = [False,True])\n",
    "\n",
    "# sorting a dataframe by its index column\n",
    "df_indexed = df.set_index([\"show_id\",\"country\"])\n",
    "df_indexed.sort_index()\n",
    "\n",
    "# sorting a multi-level indexed dataframe by its index columns\n",
    "df_indexed.sort_index(level = [\"show_id\",\"country\"], ascending = [False,True])"
   ]
  },
  {
   "cell_type": "markdown",
   "id": "8a3261e0",
   "metadata": {},
   "source": [
    "## Summarizing numerical data"
   ]
  },
  {
   "cell_type": "code",
   "execution_count": null,
   "id": "1a2dad32",
   "metadata": {
    "scrolled": true
   },
   "outputs": [],
   "source": [
    "# getting the sum of duration column\n",
    "df[\"duration\"].sum()\n",
    "\n",
    "# getting the mean of duration column\n",
    "df[\"duration\"].mean()\n",
    "\n",
    "# getting the median of duration column\n",
    "df[\"duration\"].median()\n",
    "\n",
    "# getting the mode of duration column\n",
    "df[\"duration\"].mode()\n",
    "\n",
    "# getting the minimum value of duration column\n",
    "df[\"duration\"].min()\n",
    "\n",
    "# getting the maximum value of duration column\n",
    "df[\"duration\"].max()\n",
    "\n",
    "# getting the var of duration column\n",
    "df[\"duration\"].var()\n",
    "\n",
    "# getting the std of duration column\n",
    "df[\"duration\"].std()\n",
    "\n",
    "# getting the quantile of duration column\n",
    "df[\"duration\"].quantile()\n",
    "\n",
    "# getting the cumulative sum of duration column\n",
    "df[\"duration\"].cumsum()\n",
    "\n",
    "# getting the cumulative max of duration column\n",
    "df[\"duration\"].cummax()\n",
    "\n",
    "# getting the cumulative min of duration column\n",
    "df[\"duration\"].cummin()\n",
    "\n",
    "# getting the cumulative prod of duration column\n",
    "df[\"duration\"].cumprod()"
   ]
  },
  {
   "cell_type": "markdown",
   "id": "81777d6a",
   "metadata": {},
   "source": [
    "## The agg method"
   ]
  },
  {
   "cell_type": "code",
   "execution_count": null,
   "id": "c15c4b87",
   "metadata": {},
   "outputs": [],
   "source": [
    "# agg method allows us to manipulate the data with functions we wrote\n",
    "\n",
    "# function that takes one argument and returns 20 per cent of the original data\n",
    "def func(column):\n",
    "    return column * 0.20\n",
    "\n",
    "# using the agg method on duration column\n",
    "df[\"duration\"].agg(func)\n",
    "\n",
    "# using the agg method on multiple columns\n",
    "df[[\"duration\",\"release_year\"]].agg(func)"
   ]
  },
  {
   "cell_type": "code",
   "execution_count": null,
   "id": "921869ac",
   "metadata": {},
   "outputs": [],
   "source": []
  },
  {
   "cell_type": "markdown",
   "id": "617cd417",
   "metadata": {},
   "source": [
    "## Grouped summary statistics"
   ]
  },
  {
   "cell_type": "code",
   "execution_count": null,
   "id": "b3589af4",
   "metadata": {
    "scrolled": false
   },
   "outputs": [],
   "source": [
    "# If we wanted to know the mean duration of dramas genre we should do\n",
    "df[df[\"genre\"] == \"Dramas\"][\"duration\"].mean()\n",
    "\n",
    "# But this is an inefficient way to do it. We can do the same operation with groupby method\n",
    "\n",
    "# Grouping the dataframe by genre column\n",
    "df.groupby(\"genre\")\n",
    "\n",
    "# Grouping by multiple variables\n",
    "df.groupby([\"genre\",\"country\"])\n",
    "\n",
    "# Summarizing the grouped data\n",
    "df.groupby(\"genre\")[\"duration\"].mean()\n",
    "\n",
    "# Summarizing the grouped data with more than one operation\n",
    "df.groupby(\"genre\")[\"duration\"].agg([min,max,sum])\n",
    "\n",
    "# Summarizing multiple grouped data\n",
    "df.groupby([\"genre\",\"country\"])[\"duration\"].mean()\n",
    "\n",
    "# Summarizing the multiple grouped data with more than one operation\n",
    "df.groupby([\"genre\",\"country\"])[\"duration\"].agg([min,max,sum])\n",
    "df.groupby([\"genre\",\"country\"]).agg({\"duration\":[\"min\",\"max\",\"sum\"]})"
   ]
  },
  {
   "cell_type": "markdown",
   "id": "24141346",
   "metadata": {},
   "source": [
    "## Reshaping and summarizing"
   ]
  },
  {
   "cell_type": "markdown",
   "id": "a11774a7",
   "metadata": {},
   "source": [
    "## Pivot tables"
   ]
  },
  {
   "cell_type": "code",
   "execution_count": null,
   "id": "4125b00b",
   "metadata": {},
   "outputs": [],
   "source": [
    "# Like groupby method this method is also used to summarize.\n",
    "# The default is mean\n",
    "# We can specify the operation with aggfunc parameter\n",
    "\n",
    "# There is no difeerence in this\n",
    "df.groupby(\"genre\")[\"duration\"].mean()\n",
    "\n",
    "# And this\n",
    "df.pivot_table(values = \"duration\", index = \"genre\")\n",
    "\n",
    "# But the real power of pivot tables is in the agg function\n",
    "# Using agg function to summarize data\n",
    "import numpy as np\n",
    "df.pivot_table(values = \"duration\", index = \"genre\", aggfunc = np.median)\n",
    "\n",
    "# Using more than one agg operation\n",
    "df.pivot_table(values = \"duration\", index = \"genre\", aggfunc = [np.median,np.mean])\n",
    "\n",
    "# We can also use group by more than one column with columns parameter\n",
    "df.pivot_table(values = \"duration\", index = \"genre\", columns = \"country\")\n",
    "\n",
    "# We can also fill missing values of the dataframe with fill_value parameter\n",
    "df_pivot = df.pivot_table(values = \"duration\", index = \"genre\", fill_value = 0)\n",
    "\n",
    "# We can give margins too\n",
    "df_pivot = df.pivot_table(values = \"duration\", index = \"genre\", fill_value = 0, margins = True)\n",
    "\n",
    "# an example of pivot tables' use in real world data\n",
    "df_a = df.pivot_table(\"duration\",index = \"title\", columns = \"genre\")\n",
    "df_a.head()"
   ]
  },
  {
   "cell_type": "markdown",
   "id": "fc07a496",
   "metadata": {},
   "source": [
    "## Index Operations"
   ]
  },
  {
   "cell_type": "code",
   "execution_count": null,
   "id": "1aee6242",
   "metadata": {},
   "outputs": [],
   "source": [
    "# We can set a column as index for a dataframe.\n",
    "# To set the index we use set_index(\"column_name\")\n",
    "\n",
    "df_ind = df.set_index(\"show_id\")\n",
    "df_ind.head()\n",
    "\n",
    "# We can remove the index with reset_index() method\n",
    "df_ind.reset_index()\n",
    "\n",
    "# We can drop the index\n",
    "df_reset = df_ind.reset_index(drop = True)\n",
    "df_reset.head()\n",
    "\n",
    "# We can set multi-level indexes a.k.a. hierarchical indexes\n",
    "df_multi = df.set_index([\"show_id\",\"genre\"])\n",
    "df_multi.head()\n",
    "\n",
    "# Subtestting a hierarchical indexed dataframe. Subset the outer level with a list\n",
    "df_multi.loc[[\"s1\",\"s5\"]]\n",
    "\n",
    "# Subtestting a hierarchical indexed dataframe. Subset inner levels with a list of tuples\n",
    "df_multi.loc[[(\"s1\",\"International TV\"), (\"s2\",\"Dramas\")]]"
   ]
  },
  {
   "cell_type": "markdown",
   "id": "4f0b7870",
   "metadata": {},
   "source": [
    "## Missing Values"
   ]
  },
  {
   "cell_type": "code",
   "execution_count": null,
   "id": "e36f5bf8",
   "metadata": {},
   "outputs": [],
   "source": [
    "# To see missing values we often use isna() method\n",
    "df.isna()\n",
    "\n",
    "# To se the nımber of the missing values in a column based style we use isna() and any() methods\n",
    "df.isna().any()\n",
    "\n",
    "# To see the numbers we use sum()\n",
    "df.isna().sum()\n",
    "\n",
    "# To fill the rows with missing values we use fillna()\n",
    "#df_fill = df.fillna(0)\n",
    "#df_fill.head()\n",
    "\n",
    "# To drop the rows with the missing values we use dropna()\n",
    "df_drop = df.dropna()\n",
    "df_drop.head()"
   ]
  },
  {
   "cell_type": "markdown",
   "id": "bead48a6",
   "metadata": {},
   "source": [
    "## Saving the processed file"
   ]
  },
  {
   "cell_type": "code",
   "execution_count": null,
   "id": "476ccf5d",
   "metadata": {},
   "outputs": [],
   "source": [
    "# to save as csv we use to_csv\n",
    "df_col.to_csv(\"df_col_indexed.csv\")\n",
    "\n",
    "# to not to see the index we can use index argument of to_csv method\n",
    "df_col.to_csv(\"df_col_not_indexed.csv\", index = False)"
   ]
  }
 ],
 "metadata": {
  "kernelspec": {
   "display_name": "Python 3 (ipykernel)",
   "language": "python",
   "name": "python3"
  },
  "language_info": {
   "codemirror_mode": {
    "name": "ipython",
    "version": 3
   },
   "file_extension": ".py",
   "mimetype": "text/x-python",
   "name": "python",
   "nbconvert_exporter": "python",
   "pygments_lexer": "ipython3",
   "version": "3.11.5"
  }
 },
 "nbformat": 4,
 "nbformat_minor": 5
}
